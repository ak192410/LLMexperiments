{
 "cells": [
  {
   "cell_type": "code",
   "execution_count": 76,
   "id": "250f29ba-d7e1-4865-b9b4-624916955b82",
   "metadata": {},
   "outputs": [],
   "source": [
    "import numpy as np\n",
    "import matplotlib.pyplot as plt\n",
    "import torch\n",
    "import torch.nn as nn\n",
    "import torch.nn.functional as F\n",
    "import os\n",
    "from tqdm.notebook import tqdm\n",
    "import requests\n",
    "import time\n",
    "import pprint\n",
    "from datasets import load_dataset\n",
    "from transformers import get_linear_schedule_with_warmup\n",
    "import pickle\n",
    "import os"
   ]
  },
  {
   "cell_type": "code",
   "execution_count": 77,
   "id": "569c365e-1850-4e74-bc67-cfda2ebc5622",
   "metadata": {},
   "outputs": [
    {
     "name": "stdout",
     "output_type": "stream",
     "text": [
      "Device: cuda\n"
     ]
    }
   ],
   "source": [
    "device = 'mps' if torch.mps.is_available() else 'cpu'\n",
    "device = 'cuda' if torch.cuda.is_available() else device\n",
    "#device = 'cpu'\n",
    "print(f'Device: {device}')"
   ]
  },
  {
   "cell_type": "code",
   "execution_count": 78,
   "id": "87619fb3-4a7e-4f3a-81d9-c10292fb8b89",
   "metadata": {},
   "outputs": [],
   "source": [
    "base_dir = os.getcwd()\n",
    "input_file_path = os.path.join(base_dir, 'input.txt')\n",
    "\n",
    "if not os.path.exists(input_file_path):\n",
    "    data_url = 'https://raw.githubusercontent.com/karpathy/char-rnn/master/data/tinyshakespeare/input.txt'\n",
    "    with open(input_file_path, 'w', encoding='utf-8') as f:\n",
    "        f.write(requests.get(data_url).text)\n",
    "\n",
    "with open(input_file_path, 'r', encoding='utf-8') as f:\n",
    "    text = f.read()"
   ]
  },
  {
   "cell_type": "code",
   "execution_count": 79,
   "id": "4872ca80-2bce-4f75-a1dc-690436f06fc2",
   "metadata": {},
   "outputs": [],
   "source": [
    "stream_dataset = load_dataset(\"openwebtext\", split=\"train\", streaming=True)\n",
    "paper_stream = load_dataset(\"scientific_papers\", 'pubmed', split='train', streaming=True)"
   ]
  },
  {
   "cell_type": "code",
   "execution_count": 80,
   "id": "cf34bca9-df92-4915-bdfb-41eb317772e4",
   "metadata": {},
   "outputs": [],
   "source": [
    "class data_reader:\n",
    "    def __init__(self, stream, field):\n",
    "        self.field = field\n",
    "        self.stream = stream\n",
    "        self.iter = iter(self.stream)\n",
    "    def read(self, count):\n",
    "        texts = ''\n",
    "        for _, example in zip(range(count), self.iter):\n",
    "            texts += example[self.field] + '<END>'\n",
    "        return texts\n",
    "    def reset_iterator(self):\n",
    "        self.iter = iter(self.stream)"
   ]
  },
  {
   "cell_type": "code",
   "execution_count": 81,
   "id": "1d2761d0-7863-4cf7-999c-589300af3125",
   "metadata": {},
   "outputs": [],
   "source": [
    "reader = data_reader(stream_dataset, 'text')\n",
    "paper_reader = data_reader(paper_stream, 'article')"
   ]
  },
  {
   "cell_type": "code",
   "execution_count": 82,
   "id": "4cd86489-f70e-4641-9d3c-7beff70995dc",
   "metadata": {},
   "outputs": [],
   "source": [
    "text = reader.read(3000) #+ paper_reader.read(125)"
   ]
  },
  {
   "cell_type": "code",
   "execution_count": 83,
   "id": "36c12121-e1c4-46d3-b336-3e1508ccb00e",
   "metadata": {},
   "outputs": [
    {
     "data": {
      "text/plain": [
       "15092563"
      ]
     },
     "execution_count": 83,
     "metadata": {},
     "output_type": "execute_result"
    }
   ],
   "source": [
    "len(text)"
   ]
  },
  {
   "cell_type": "code",
   "execution_count": 84,
   "id": "d1da7221-24d9-49c3-bea1-bb9daf61577d",
   "metadata": {},
   "outputs": [],
   "source": [
    "#chars = set(text)\n",
    "#vocab_size = len(chars)\n",
    "#stoi = {c:i for i, c in enumerate(chars)}\n",
    "#itos = {i:c for c, i in stoi.items()}\n",
    "#encode = lambda x:[stoi[c] for c in x]\n",
    "#decode = lambda x:''.join([itos[c] for c in x])"
   ]
  },
  {
   "cell_type": "code",
   "execution_count": 85,
   "id": "973a9b38-768f-40cd-8f5a-88bd2d3ffd22",
   "metadata": {},
   "outputs": [],
   "source": [
    "class Tokenizer:\n",
    "    def __init__(self, data, vocab_size):\n",
    "        self.vocab_size = vocab_size\n",
    "        self.data = data\n",
    "        self.merges = {}\n",
    "        self.unmerge = {}\n",
    "        self.super_unmerge = {}\n",
    "        self.max_token_size = 0\n",
    "    def _most_common_pair(self, data):\n",
    "        pairs = {}\n",
    "        for pair in zip(data, data[1:]):\n",
    "            pairs[pair] = pairs.get(pair, 0) + 1\n",
    "        return(max(pairs, key=pairs.get), pairs)\n",
    "    def _merge(self, data, pair, id):\n",
    "        new_data = []\n",
    "        i = 0\n",
    "        while(i < len(data)):\n",
    "            if(i < len(data) - 1 and data[i] == pair[0] and data[i+1] == pair[1]):\n",
    "                new_data.append(id)\n",
    "                i += 2\n",
    "            else:\n",
    "                new_data.append(data[i])\n",
    "                i += 1\n",
    "        return new_data\n",
    "    def _combine(self, item, dictionary):\n",
    "        items = dictionary[item]\n",
    "        first = (items[0],)\n",
    "        second = (items[1],)\n",
    "        if(first[0] > 255):\n",
    "            first = self._combine(first[0], dictionary)\n",
    "        if(second[0] > 255):\n",
    "            second = self._combine(second[0], dictionary)\n",
    "        return first+second\n",
    "    def train(self):\n",
    "        encoding = self.data.encode('utf-8')\n",
    "        train_data = list(map(int, encoding))\n",
    "        num_merges = self.vocab_size - 256\n",
    "        for i in tqdm(range(num_merges)):\n",
    "            new_item_id = 256 + i\n",
    "            max_occur, pairs = self._most_common_pair(train_data)\n",
    "            self.merges[max_occur] = new_item_id\n",
    "            train_data = self._merge(train_data, max_occur, new_item_id)\n",
    "        print(len(self.data), len(train_data))\n",
    "        print(f'compression ratio: {len(self.data)/len(train_data):.2f}X')\n",
    "        self.unmerge = {item:key for  key, item in self.merges.items()}\n",
    "        self.super_unmerge = {i:i for i in range(256)}\n",
    "        for key in self.unmerge:\n",
    "            self.super_unmerge[key] = self._combine(key, self.unmerge)\n",
    "        self.max_token_size = max([len(a) if isinstance(a, tuple) else 1 for a in tokenizer.super_unmerge.values()])\n",
    "    def decode(self, data):\n",
    "        byte_rep = [bytes([x]) for item in data for x in ([item] if item <= 255 else self.super_unmerge[item])]\n",
    "        return b''.join(byte_rep).decode('utf-8', errors='replace')\n",
    "    def encode(self, string):\n",
    "        encoding = string.encode('utf-8')\n",
    "        items = list(map(int, encoding))\n",
    "        super_merge = {items:token for token, items in self.super_unmerge.items()}\n",
    "        out = []\n",
    "        i = 0\n",
    "        while i < len(items):\n",
    "            for length in range(self.max_token_size, 0, -1):\n",
    "                if(len(items) - i < length):\n",
    "                    continue\n",
    "                if(length == 1):\n",
    "                    out.append(super_merge[items[i]])\n",
    "                    i += 1\n",
    "                else:\n",
    "                    encode = tuple(items[i:i+length])\n",
    "                    if(encode in super_merge):\n",
    "                        out.append(super_merge[encode])\n",
    "                        i += length\n",
    "                        break\n",
    "                    else:\n",
    "                        pass\n",
    "        return out\n",
    "    def print_vocab(self):\n",
    "        translations = []\n",
    "        for i in range(self.vocab_size):\n",
    "            try:\n",
    "                translations.append((i, self.decode(list(self.super_unmerge[i]))))\n",
    "            except:\n",
    "                translations.append((i, self.decode(list([self.super_unmerge[i]]))))                \n",
    "        pp = pprint.PrettyPrinter(width = 100, compact=True)\n",
    "        pp.pprint(translations)"
   ]
  },
  {
   "cell_type": "code",
   "execution_count": 86,
   "id": "a5477da5-c590-4f99-88ac-c2fa9a4f6f6b",
   "metadata": {},
   "outputs": [],
   "source": [
    "vocab_size = 850"
   ]
  },
  {
   "cell_type": "code",
   "execution_count": 87,
   "id": "2cd24538-deee-45d4-9ad9-5725ebac3b7d",
   "metadata": {},
   "outputs": [],
   "source": [
    "tokenizer = Tokenizer(text, vocab_size)"
   ]
  },
  {
   "cell_type": "code",
   "execution_count": 88,
   "id": "da73afb8-efca-429d-9455-a4058d6a5c37",
   "metadata": {},
   "outputs": [
    {
     "data": {
      "application/vnd.jupyter.widget-view+json": {
       "model_id": "c887b4bf7a4e461a89ec3e0533c6c4a7",
       "version_major": 2,
       "version_minor": 0
      },
      "text/plain": [
       "  0%|          | 0/594 [00:00<?, ?it/s]"
      ]
     },
     "metadata": {},
     "output_type": "display_data"
    },
    {
     "name": "stdout",
     "output_type": "stream",
     "text": [
      "15092563 6430645\n",
      "compression ratio: 2.35X\n"
     ]
    }
   ],
   "source": [
    "tokenizer.train()"
   ]
  },
  {
   "cell_type": "code",
   "execution_count": 89,
   "id": "afb58651-96c0-44d5-bd8b-f0220a7d4062",
   "metadata": {},
   "outputs": [],
   "source": [
    "with open('tokenizer.pkl', 'wb') as f:\n",
    "    pickle.dump(tokenizer, f)"
   ]
  },
  {
   "cell_type": "code",
   "execution_count": 90,
   "id": "7a4da268-dfc0-492e-a7f8-c4503b379a5c",
   "metadata": {},
   "outputs": [],
   "source": [
    "#with open('tokenizer.pkl', 'rb') as f:\n",
    "#    tokenizer = pickle.load(f)"
   ]
  },
  {
   "cell_type": "code",
   "execution_count": 91,
   "id": "84146bfb-41f3-4c71-a9b4-e443bdce7fea",
   "metadata": {},
   "outputs": [],
   "source": [
    "encode = tokenizer.encode('where are you going')"
   ]
  },
  {
   "cell_type": "code",
   "execution_count": 92,
   "id": "8ec6e1a5-7c48-44e6-b432-67b8c57e7c90",
   "metadata": {},
   "outputs": [
    {
     "data": {
      "text/plain": [
       "[329, 391, 379, 451, 632, 277]"
      ]
     },
     "execution_count": 92,
     "metadata": {},
     "output_type": "execute_result"
    }
   ],
   "source": [
    "encode"
   ]
  },
  {
   "cell_type": "code",
   "execution_count": 93,
   "id": "7d24e9ee-13ce-46d1-8427-46626362dcd5",
   "metadata": {},
   "outputs": [
    {
     "data": {
      "text/plain": [
       "'where are you going'"
      ]
     },
     "execution_count": 93,
     "metadata": {},
     "output_type": "execute_result"
    }
   ],
   "source": [
    "tokenizer.decode(encode)"
   ]
  },
  {
   "cell_type": "code",
   "execution_count": 94,
   "id": "481e70a0-059b-41f1-ae5c-41e89d8d5369",
   "metadata": {},
   "outputs": [
    {
     "name": "stdout",
     "output_type": "stream",
     "text": [
      "[(0, '\\x00'), (1, '\\x01'), (2, '\\x02'), (3, '\\x03'), (4, '\\x04'), (5, '\\x05'), (6, '\\x06'),\n",
      " (7, '\\x07'), (8, '\\x08'), (9, '\\t'), (10, '\\n'), (11, '\\x0b'), (12, '\\x0c'), (13, '\\r'),\n",
      " (14, '\\x0e'), (15, '\\x0f'), (16, '\\x10'), (17, '\\x11'), (18, '\\x12'), (19, '\\x13'), (20, '\\x14'),\n",
      " (21, '\\x15'), (22, '\\x16'), (23, '\\x17'), (24, '\\x18'), (25, '\\x19'), (26, '\\x1a'), (27, '\\x1b'),\n",
      " (28, '\\x1c'), (29, '\\x1d'), (30, '\\x1e'), (31, '\\x1f'), (32, ' '), (33, '!'), (34, '\"'), (35, '#'),\n",
      " (36, '$'), (37, '%'), (38, '&'), (39, \"'\"), (40, '('), (41, ')'), (42, '*'), (43, '+'), (44, ','),\n",
      " (45, '-'), (46, '.'), (47, '/'), (48, '0'), (49, '1'), (50, '2'), (51, '3'), (52, '4'), (53, '5'),\n",
      " (54, '6'), (55, '7'), (56, '8'), (57, '9'), (58, ':'), (59, ';'), (60, '<'), (61, '='), (62, '>'),\n",
      " (63, '?'), (64, '@'), (65, 'A'), (66, 'B'), (67, 'C'), (68, 'D'), (69, 'E'), (70, 'F'), (71, 'G'),\n",
      " (72, 'H'), (73, 'I'), (74, 'J'), (75, 'K'), (76, 'L'), (77, 'M'), (78, 'N'), (79, 'O'), (80, 'P'),\n",
      " (81, 'Q'), (82, 'R'), (83, 'S'), (84, 'T'), (85, 'U'), (86, 'V'), (87, 'W'), (88, 'X'), (89, 'Y'),\n",
      " (90, 'Z'), (91, '['), (92, '\\\\'), (93, ']'), (94, '^'), (95, '_'), (96, '`'), (97, 'a'), (98, 'b'),\n",
      " (99, 'c'), (100, 'd'), (101, 'e'), (102, 'f'), (103, 'g'), (104, 'h'), (105, 'i'), (106, 'j'),\n",
      " (107, 'k'), (108, 'l'), (109, 'm'), (110, 'n'), (111, 'o'), (112, 'p'), (113, 'q'), (114, 'r'),\n",
      " (115, 's'), (116, 't'), (117, 'u'), (118, 'v'), (119, 'w'), (120, 'x'), (121, 'y'), (122, 'z'),\n",
      " (123, '{'), (124, '|'), (125, '}'), (126, '~'), (127, '\\x7f'), (128, '�'), (129, '�'), (130, '�'),\n",
      " (131, '�'), (132, '�'), (133, '�'), (134, '�'), (135, '�'), (136, '�'), (137, '�'), (138, '�'),\n",
      " (139, '�'), (140, '�'), (141, '�'), (142, '�'), (143, '�'), (144, '�'), (145, '�'), (146, '�'),\n",
      " (147, '�'), (148, '�'), (149, '�'), (150, '�'), (151, '�'), (152, '�'), (153, '�'), (154, '�'),\n",
      " (155, '�'), (156, '�'), (157, '�'), (158, '�'), (159, '�'), (160, '�'), (161, '�'), (162, '�'),\n",
      " (163, '�'), (164, '�'), (165, '�'), (166, '�'), (167, '�'), (168, '�'), (169, '�'), (170, '�'),\n",
      " (171, '�'), (172, '�'), (173, '�'), (174, '�'), (175, '�'), (176, '�'), (177, '�'), (178, '�'),\n",
      " (179, '�'), (180, '�'), (181, '�'), (182, '�'), (183, '�'), (184, '�'), (185, '�'), (186, '�'),\n",
      " (187, '�'), (188, '�'), (189, '�'), (190, '�'), (191, '�'), (192, '�'), (193, '�'), (194, '�'),\n",
      " (195, '�'), (196, '�'), (197, '�'), (198, '�'), (199, '�'), (200, '�'), (201, '�'), (202, '�'),\n",
      " (203, '�'), (204, '�'), (205, '�'), (206, '�'), (207, '�'), (208, '�'), (209, '�'), (210, '�'),\n",
      " (211, '�'), (212, '�'), (213, '�'), (214, '�'), (215, '�'), (216, '�'), (217, '�'), (218, '�'),\n",
      " (219, '�'), (220, '�'), (221, '�'), (222, '�'), (223, '�'), (224, '�'), (225, '�'), (226, '�'),\n",
      " (227, '�'), (228, '�'), (229, '�'), (230, '�'), (231, '�'), (232, '�'), (233, '�'), (234, '�'),\n",
      " (235, '�'), (236, '�'), (237, '�'), (238, '�'), (239, '�'), (240, '�'), (241, '�'), (242, '�'),\n",
      " (243, '�'), (244, '�'), (245, '�'), (246, '�'), (247, '�'), (248, '�'), (249, '�'), (250, '�'),\n",
      " (251, '�'), (252, '�'), (253, '�'), (254, '�'), (255, '�'), (256, 'e '), (257, ' t'), (258, 's '),\n",
      " (259, 'in'), (260, ' th'), (261, 'er'), (262, 't '), (263, 'an'), (264, 'd '), (265, 'on'),\n",
      " (266, 'en'), (267, 'or'), (268, ' the '), (269, ', '), (270, 'y '), (271, 'ar'), (272, 'at'),\n",
      " (273, 'al'), (274, 'o '), (275, 'ou'), (276, 're'), (277, 'ing'), (278, 'it'), (279, 'of'),\n",
      " (280, '. '), (281, 'st'), (282, 'a '), (283, 'ic'), (284, '�'), (285, '\\n\\n'), (286, 'ed '),\n",
      " (287, 'and '), (288, 'th'), (289, 'ing '), (290, 'ion'), (291, 'om'), (292, 'es'), (293, 'er '),\n",
      " (294, ' to '), (295, 'of '), (296, 'il'), (297, 'is '), (298, 'el'), (299, 'ac'), (300, 'is'),\n",
      " (301, 'ha'), (302, 'ed'), (303, 'h '), (304, 'in '), (305, 'as'), (306, 'for'), (307, 'es '),\n",
      " (308, '.\\n\\n'), (309, 'ec'), (310, 'ro'), (311, 'at '), (312, 'an '), (313, 'ol'), (314, 'ow'),\n",
      " (315, 'al '), (316, 'Th'), (317, 'am'), (318, 'ent'), (319, 'as '), (320, 'im'), (321, 'em'),\n",
      " (322, 'id'), (323, 'pl'), (324, 'ig'), (325, 've '), (326, 'us'), (327, '’'), (328, 'ur'),\n",
      " (329, 'wh'), (330, 'all'), (331, 'et'), (332, 'en '), (333, 'un'), (334, 'ad'), (335, 'ion '),\n",
      " (336, 'ir'), (337, 'ver'), (338, 'ab'), (339, 'on '), (340, 'ch'), (341, 'ag'), (342, 'os'),\n",
      " (343, 'wit'), (344, ' that '), (345, 'e th'), (346, 'le'), (347, 'k '), (348, 'l '), (349, 'ay'),\n",
      " (350, 'and'), (351, 'ex'), (352, 'con'), (353, 'for '), (354, 'ent '), (355, 'The '), (356, 'it '),\n",
      " (357, 'com'), (358, 'res'), (359, 'of the '), (360, 'or '), (361, 'you'), (362, 'ly '),\n",
      " (363, 'pro'), (364, 'ot'), (365, 'ul'), (366, 'if'), (367, 'sh'), (368, 'e t'), (369, 'ear'),\n",
      " (370, 'n '), (371, 'be'), (372, 'op'), (373, 'ut'), (374, 'ri'), (375, 'ap'), (376, 'su'),\n",
      " (377, 'int'), (378, 'was '), (379, 'are '), (380, 'fr'), (381, 'se'), (382, 's, '), (383, '’s '),\n",
      " (384, 'li'), (385, 'I '), (386, 'oun'), (387, 'oo'), (388, ' the'), (389, 'in the '), (390, 'be '),\n",
      " (391, 'ere '), (392, 'with '), (393, 'ew'), (394, 'ev'), (395, 'ak'), (396, 'oc'), (397, 'e, '),\n",
      " (398, 'ot '), (399, 'igh'), (400, 'um'), (401, 'ation'), (402, 'our'), (403, '“'), (404, 'have '),\n",
      " (405, 'oul'), (406, '”'), (407, ' to'), (408, 'le '), (409, 'p '), (410, 'ect'), (411, 'per'),\n",
      " (412, 'di'), (413, 'est'), (414, 'ay '), (415, 'from'), (416, 'ers '), (417, 'qu'), (418, 'enc'),\n",
      " (419, \"'s \"), (420, 'uc'), (421, '20'), (422, 'ould '), (423, 'sp'), (424, ') '), (425, ': '),\n",
      " (426, 'art'), (427, 'de'), (428, 'ut '), (429, 'ill '), (430, 'sa'), (431, 'act'), (432, 'oth'),\n",
      " (433, 'cl'), (434, 'ic '), (435, 'ation '), (436, 'wor'), (437, 's. '), (438, 'bl'), (439, 'iv'),\n",
      " (440, 'out '), (441, 'not '), (442, 'ist'), (443, 'by '), (444, 'he '), (445, 'ort'), (446, 'ra'),\n",
      " (447, 'ant'), (448, 'ate '), (449, 'e. '), (450, 'e the '), (451, 'you '), (452, 'ow '),\n",
      " (453, 'one '), (454, 'we'), (455, ' this '), (456, 'ive '), (457, 'end'), (458, 'has '),\n",
      " (459, ', the '), (460, 'ir '), (461, 'his '), (462, 'ep'), (463, 'ity '), (464, 'ed to '),\n",
      " (465, 'e to '), (466, 'anc'), (467, 'mor'), (468, 'oug'), (469, 'gr'), (470, 'so '),\n",
      " (471, 'ally '), (472, 'from '), (473, 'pr'), (474, 'ill'), (475, 'rec'), (476, 'ain'), (477, '” '),\n",
      " (478, 'e of '), (479, 'y, '), (480, '0 '), (481, 'ew '), (482, 'ud'), (483, 'over'), (484, 'ong'),\n",
      " (485, 'St'), (486, 'all '), (487, 'od'), (488, 'et '), (489, 'will '), (490, 'ov'), (491, 'out'),\n",
      " (492, 'at the '), (493, 'ess'), (494, 'f '), (495, 'with'), (496, 'som'), (497, 'str'),\n",
      " (498, 'ter'), (499, 'pe'), (500, 's of '), (501, ', and '), (502, 'ing the '), (503, 'we '),\n",
      " (504, 'ob'), (505, '. I'), (506, 'ar '), (507, 's and '), (508, 'cont'), (509, 'but '),\n",
      " (510, 'whic'), (511, 'm '), (512, 'th '), (513, ' to the '), (514, 'can '), (515, 'year'),\n",
      " (516, 'who '), (517, '—'), (518, 'lik'), (519, ' they '), (520, 'port'), (521, '\" '), (522, 'ang'),\n",
      " (523, 'id '), (524, 'any '), (525, 'ack'), (526, 'ies '), (527, 's to '), (528, ' their '),\n",
      " (529, 'ne'), (530, 'pos'), (531, 'he'), (532, 'inc'), (533, 'og'), (534, 'hat '), (535, 'ter '),\n",
      " (536, '201'), (537, 'af'), (538, 'est '), (539, 'iz'), (540, 'ch '), (541, 'which '), (542, ' tr'),\n",
      " (543, 'ell'), (544, 'on the '), (545, 'our '), (546, 'were '), (547, 'dis'), (548, 'would '),\n",
      " (549, 'av'), (550, 'up'), (551, 'und'), (552, 'sc'), (553, 'off'), (554, 'ust '), (555, 'ost '),\n",
      " (556, 'pres'), (557, '. A'), (558, 'ing to '), (559, '. The '), (560, 'ard'), (561, 'been '),\n",
      " (562, 'ef'), (563, 'ser'), (564, 'ight'), (565, 'es, '), (566, 'vi'), (567, 'el '),\n",
      " (568, 'other '), (569, 'do'), (570, 'ind'), (571, 'aw'), (572, 'ial '), (573, 'ight '),\n",
      " (574, 'r '), (575, 'par'), (576, 'ple '), (577, 'ment'), (578, 'ough'), (579, 'po'), (580, 'st '),\n",
      " (581, 'more '), (582, 'bec'), (583, 'ass'), (584, 'ast '), (585, 'fir'), (586, 'its '),\n",
      " (587, '. Th'), (588, '19'), (589, 'In'), (590, 'ord'), (591, '’t '), (592, 'had '),\n",
      " (593, 's.\\n\\n'), (594, 'ame '), (595, 'arg'), (596, 'mak'), (597, 'ed the '), (598, ' and '),\n",
      " (599, 'ail'), (600, 'pol'), (601, 'ey '), (602, 'kn'), (603, 'her'), (604, 'ment '), (605, 'form'),\n",
      " (606, 'aus'), (607, 'att'), (608, 'ice '), (609, 'ated '), (610, 'me'), (611, 'ical '),\n",
      " (612, 'ever'), (613, 'ens'), (614, 'ast'), (615, 'Ch'), (616, 'fer'), (617, 'for the '),\n",
      " (618, 'pre'), (619, 'about '), (620, 'her '), (621, 'said'), (622, 'peo'), (623, 'and the '),\n",
      " (624, ' ('), (625, 'also '), (626, 'ely '), (627, 'mon'), (628, 'age '), (629, 'fl'), (630, 'ad '),\n",
      " (631, 'em '), (632, 'go'), (633, 'ug'), (634, 'br'), (635, ' that'), (636, 'si'), (637, 'a l'),\n",
      " (638, 'ult'), (639, 'ure'), (640, 'ary '), (641, 'ure '), (642, 'inter'), (643, 'part'),\n",
      " (644, '00'), (645, 'e.\\n\\n'), (646, 'min'), (647, 'ign'), (648, 'duc'), (649, 'fin'),\n",
      " (650, ' tim'), (651, 'co'), (652, 'up '), (653, 'Wh'), (654, 'comp'), (655, 'y the '),\n",
      " (656, 'acc'), (657, 'own '), (658, 'ous'), (659, 'ound'), (660, 'ount'), (661, 'lin'),\n",
      " (662, 'your '), (663, 'sel'), (664, 'my '), (665, 'An'), (666, 'A '), (667, 'rit'), (668, 'ph'),\n",
      " (669, 'sid'), (670, 'mer'), (671, 'play'), (672, 'ence '), (673, 'pp'), (674, 'ese '),\n",
      " (675, 'ess '), (676, 'ubl'), (677, 'ack '), (678, 'EN'), (679, 'ust'), (680, 'work'), (681, 'oll'),\n",
      " (682, 'am '), (683, 'eth'), (684, '. H'), (685, 'Un'), (686, 'a s'), (687, 'ity'), (688, 'most '),\n",
      " (689, 'some '), (690, 'ose '), (691, 'ous '), (692, 'ions '), (693, 'ant '), (694, 'vers'),\n",
      " (695, 'eg'), (696, 'own'), (697, 'ans'), (698, 'i '), (699, 'just '), (700, 'able '), (701, 'day'),\n",
      " (702, 'man'), (703, 's the '), (704, 'no '), (705, '–'), (706, 'not'), (707, 'what '),\n",
      " (708, 'END'), (709, 'said '), (710, 'ook'), (711, 'bet'), (712, 'with the '), (713, '<END'),\n",
      " (714, '<END>'), (715, 'way'), (716, 'say'), (717, 'ed by '), (718, 'comm'), (719, 'ber'),\n",
      " (720, 'ly'), (721, 'him'), (722, 'e and '), (723, 'when '), (724, 'des'), (725, '1 '),\n",
      " (726, 'ell '), (727, 'fe'), (728, 'dec'), (729, 'but'), (730, 'vid'), (731, 'rat'), (732, 'ong '),\n",
      " (733, 'ound '), (734, 'ed in '), (735, 'if '), (736, '5 '), (737, 'rem'), (738, ',” '),\n",
      " (739, 'row'), (740, 'ite '), (741, 'ire'), (742, '2 '), (743, 'people '), (744, 'ain '),\n",
      " (745, 'like '), (746, '; '), (747, 'ook '), (748, 'don'), (749, '--'), (750, 'a f'), (751, 'ip'),\n",
      " (752, 'ach'), (753, '.\\n\\nThe '), (754, 'ard '), (755, 'e that '), (756, 'er, '), (757, 'ber '),\n",
      " (758, 'us '), (759, 'ood '), (760, 'ick'), (761, \"'t \"), (762, 'Tr'), (763, ' tak'), (764, 'ict'),\n",
      " (765, 'rel'), (766, 're '), (767, '. B'), (768, 'do '), (769, '. S'), (770, 'wo '), (771, 'clud'),\n",
      " (772, 't of '), (773, 'ies'), (774, 'becaus'), (775, 'new '), (776, '”\\n\\n'), (777, 's in '),\n",
      " (778, 'sec'), (779, 'sy'), (780, 'reg'), (781, 'could '), (782, 'e-'), (783, 'reat'),\n",
      " (784, ', th'), (785, 'ough '), (786, 'old '), (787, 'from the '), (788, 'stat'), (789, 'serv'),\n",
      " (790, 'a c'), (791, 'itt'), (792, 'ener'), (793, '] '), (794, 'only '), (795, 'a b'),\n",
      " (796, 'ile '), (797, 'add'), (798, '? '), (799, 'mar'), (800, ' that the '), (801, 'ents '),\n",
      " (802, 'hel'), (803, 'ok'), (804, 'reas'), (805, 'was'), (806, 'ish'), (807, 'abl'), (808, 'sur'),\n",
      " (809, 'ann'), (810, 'inv'), (811, 's that '), (812, 'ory '), (813, 'We '), (814, 'ed, '),\n",
      " (815, 'dr'), (816, 'mat'), (817, 'get '), (818, 'il '), (819, 'x '), (820, 'dif'), (821, 'eas'),\n",
      " (822, 'au'), (823, 'o the '), (824, 'includ'), (825, 'ret'), (826, '200'), (827, '4 '),\n",
      " (828, '.”\\n\\n'), (829, 'ition'), (830, 'ext'), (831, 'into '), (832, 'ey'), (833, 'read'),\n",
      " (834, 'first '), (835, 'S '), (836, 'ing, '), (837, 'meric'), (838, 'bu'), (839, 'very '),\n",
      " (840, 'med'), (841, 'ort '), (842, '3 '), (843, 'ist '), (844, 'ond'), (845, 'Americ'),\n",
      " (846, 'bel'), (847, 'by the '), (848, 'ans '), (849, 'overn')]\n"
     ]
    }
   ],
   "source": [
    "tokenizer.print_vocab()"
   ]
  },
  {
   "cell_type": "code",
   "execution_count": 95,
   "id": "8fa50db7-3dad-4492-b688-d89049a87c8d",
   "metadata": {},
   "outputs": [],
   "source": [
    "def process_data(text):\n",
    "    data = tokenizer.encode(text)\n",
    "    split = int(len(data) * 0.90)\n",
    "    train_data = torch.tensor(data[:split], device=device)\n",
    "    test_data = torch.tensor(data[split:], device=device)\n",
    "    return data, train_data, test_data"
   ]
  },
  {
   "cell_type": "code",
   "execution_count": 96,
   "id": "cc3d661c-a197-4f3f-b793-ff3950954884",
   "metadata": {},
   "outputs": [],
   "source": [
    "block_size = 256\n",
    "batch_size = 48\n",
    "num_embed = 2100\n",
    "drop = 0.01\n",
    "lr = 1e-4\n",
    "def get_batch(split, batch_size=batch_size):\n",
    "    data = {'train': train_data, 'test': test_data}[split]\n",
    "    indices = torch.randint(len(data) - block_size - 1, (batch_size, ))\n",
    "    x = torch.stack([data[i:i+block_size] for i in indices])\n",
    "    y = torch.stack([data[i+1:i+block_size+1] for i in indices])\n",
    "    return x, y"
   ]
  },
  {
   "cell_type": "code",
   "execution_count": 97,
   "id": "95814a16-d87d-43f2-b9ba-b26a306e5957",
   "metadata": {},
   "outputs": [],
   "source": [
    "class embedding_model(nn.Module):\n",
    "    def __init__(self, num_embed = 32, hidden_size = 64, layers = 4):\n",
    "        super().__init__()\n",
    "        self.embedding_table = nn.Embedding(vocab_size, num_embed)\n",
    "        self.flat = nn.Flatten()\n",
    "        self.layers = nn.Sequential(nn.Linear(num_embed * block_size, hidden_size), nn.ReLU(),  nn.LayerNorm(hidden_size), \n",
    "                                    nn.Linear(hidden_size, hidden_size), nn.ReLU(), nn.LayerNorm(hidden_size),\n",
    "                                    nn.Linear(hidden_size, hidden_size), nn.ReLU(),\n",
    "                                   nn.LayerNorm(hidden_size), nn.Linear(hidden_size, vocab_size), nn.ReLU())\n",
    "    def forward(self, x):\n",
    "        return self.layers(self.flat(self.embedding_table(x)))\n",
    "    def generate(self, x, count):\n",
    "        with torch.no_grad():\n",
    "            if(len(x) < block_size):\n",
    "                x = (' '* (block_size-len(x))) + x\n",
    "            for _ in range(count):\n",
    "                items = encode(x)[-block_size:]\n",
    "                items = torch.tensor(items).view(1, -1)\n",
    "                logits = self.forward(items)\n",
    "                probs = F.softmax(logits)\n",
    "                char = torch.multinomial(probs, num_samples=1, replacement=True).item()\n",
    "                char = decode([char])\n",
    "                x += char\n",
    "        return x"
   ]
  },
  {
   "cell_type": "code",
   "execution_count": 98,
   "id": "025c5984-12b9-46af-918e-871d83bed699",
   "metadata": {},
   "outputs": [],
   "source": [
    "class head(nn.Module):\n",
    "    def __init__(self, in_size, head_size):\n",
    "        self.head_size = head_size\n",
    "        super().__init__()\n",
    "        self.key = nn.Linear(in_size, head_size, bias=False)\n",
    "        self.query = nn.Linear(in_size, head_size, bias=False)\n",
    "        self.value = nn.Linear(in_size, head_size, bias=False)\n",
    "        self.register_buffer('tril', torch.tril(torch.ones(block_size, block_size)))\n",
    "    def forward(self, x):\n",
    "        k = self.key(x)\n",
    "        q = self.query(x)\n",
    "        v = self.value(x)\n",
    "        wei = (q @ k.transpose(-2, -1))/np.sqrt(self.head_size)\n",
    "        wei = wei.masked_fill(self.tril == 0, float('-inf'))\n",
    "        wei = F.softmax(wei, dim=2)\n",
    "        out = wei @ v\n",
    "        return out\n",
    "class multihead(nn.Module):\n",
    "    def __init__(self, num_heads, in_size, head_size):\n",
    "        super().__init__()\n",
    "        self.heads = nn.ModuleList([head(in_size, head_size) for _ in range(num_heads)])\n",
    "    def forward(self, x):\n",
    "        out = torch.cat([head(x) for head in self.heads], dim=-1)\n",
    "        return out\n",
    "class block(nn.Module):\n",
    "    def __init__(self, num_embed, num_head):\n",
    "        super().__init__()\n",
    "        self.heads = multihead(num_head, num_embed, num_embed//num_head)\n",
    "        self.linear = nn.Linear(num_embed, num_embed)\n",
    "        self.norm = nn.LayerNorm(num_embed)\n",
    "        self.ff = nn.Sequential(nn.Linear(num_embed, num_embed*4), nn.ReLU(),\n",
    "                                nn.Linear(num_embed*4, num_embed))\n",
    "        self.postnorm = nn.LayerNorm(num_embed)\n",
    "        #self.dropout = nn.Dropout(drop)\n",
    "    def forward(self, x):\n",
    "        out = x + self.linear(self.heads(self.norm(x)))\n",
    "        out = out + self.ff(self.postnorm(out))\n",
    "        return out\n",
    "class transformer(nn.Module):\n",
    "    def __init__(self):\n",
    "        super().__init__()\n",
    "        n_head = 12\n",
    "        num_blocks = 20\n",
    "        self.embed = nn.Embedding(vocab_size, num_embed)\n",
    "        self.pos_embed = nn.Embedding(block_size, num_embed)\n",
    "        self.layers = nn.Sequential(*[layer for _ in range(num_blocks) for layer in [block(num_embed, n_head), nn.Dropout(drop)]])\n",
    "        self.post_norm = nn.LayerNorm(num_embed)\n",
    "        self.proj = nn.Linear(num_embed, vocab_size)\n",
    "    def forward(self, x, y=None, train=True):\n",
    "        if(train):\n",
    "            self.train()\n",
    "        else:\n",
    "            self.eval()\n",
    "        embed = self.embed(x)\n",
    "        pos_embed = self.pos_embed(torch.arange(block_size, device=device))\n",
    "        inp = embed + pos_embed\n",
    "        logits = self.proj(self.post_norm(self.layers(inp)))\n",
    "        if(y is None):\n",
    "            return logits\n",
    "        loss = F.cross_entropy(logits.view(logits.shape[0]*block_size, vocab_size), y.view(-1))\n",
    "        return logits, loss\n",
    "    def generate(self, x, num_tokens=100):\n",
    "        encoding = torch.tensor(tokenizer.encode(x), device=device)\n",
    "        for _ in range(num_tokens):\n",
    "            shape = encoding.shape[0]\n",
    "            if(shape < block_size):\n",
    "                item = torch.cat((encoding, torch.tensor([0 for i in range(block_size)], device=device)))\n",
    "                current_context = item[:block_size].view(1, -1)\n",
    "                logits = self.forward(current_context).view(block_size, -1)\n",
    "                probabilities = F.softmax(logits, dim=1)\n",
    "                prediction = torch.multinomial(probabilities[shape-1], num_samples=1, replacement=True).item()\n",
    "            else:\n",
    "                current_context = encoding[-block_size:].view(1, -1)\n",
    "                logits = self.forward(current_context).view(block_size, -1)\n",
    "                probabilities = F.softmax(logits, dim=1)\n",
    "                prediction = torch.multinomial(probabilities[-1], num_samples=1, replacement=True).item()\n",
    "            encoding = torch.cat((encoding, torch.tensor([prediction], device=device)))\n",
    "        return (tokenizer.decode(encoding.tolist()))\n",
    "        "
   ]
  },
  {
   "cell_type": "code",
   "execution_count": 99,
   "id": "f01e56f8-2dc5-451e-9ab2-b41504180edc",
   "metadata": {},
   "outputs": [
    {
     "name": "stderr",
     "output_type": "stream",
     "text": [
      "/tmp/ipykernel_2182/3637110293.py:4: FutureWarning: `torch.cuda.amp.GradScaler(args...)` is deprecated. Please use `torch.amp.GradScaler('cuda', args...)` instead.\n",
      "  scaler = torch.cuda.amp.GradScaler()\n"
     ]
    }
   ],
   "source": [
    "#model = embedding_model().to(device)\n",
    "model = nn.DataParallel(transformer()).to(device)\n",
    "optimizer = torch.optim.AdamW(model.parameters(), lr=lr, weight_decay=0.001)\n",
    "scaler = torch.cuda.amp.GradScaler()"
   ]
  },
  {
   "cell_type": "code",
   "execution_count": 100,
   "id": "383ca161-37f9-419a-9a0c-84ee00acff31",
   "metadata": {},
   "outputs": [
    {
     "name": "stdout",
     "output_type": "stream",
     "text": [
      "Using 2 GPUs\n"
     ]
    }
   ],
   "source": [
    "print(f\"Using {torch.cuda.device_count()} GPUs\")"
   ]
  },
  {
   "cell_type": "code",
   "execution_count": 101,
   "id": "c3a3d20c-58cb-4b4b-8cc9-5b26e01728b0",
   "metadata": {},
   "outputs": [
    {
     "name": "stdout",
     "output_type": "stream",
     "text": [
      "Param Count: 1062932650\n"
     ]
    }
   ],
   "source": [
    "num_params = sum(p.numel() for p in model.parameters())\n",
    "print(f'Param Count: {num_params}')"
   ]
  },
  {
   "cell_type": "code",
   "execution_count": 102,
   "id": "5855c0bd-0ece-4c11-81d4-f342cb39a82d",
   "metadata": {},
   "outputs": [],
   "source": [
    "class Data_loader:\n",
    "    def __init__(self, name, reader, num_files, num_groups, save=True):\n",
    "        self.name = name\n",
    "        self.reader = reader\n",
    "        self.num_files = num_files\n",
    "        self.num_groups = num_groups\n",
    "        self.current_group = 0\n",
    "        ## loads the processes files to a folder\n",
    "        if(save):\n",
    "            self.reader.reset_iterator()\n",
    "            for i in tqdm(range(self.num_groups)):\n",
    "                text = self.reader.read(self.num_files)\n",
    "                _, train, test = process_data(text)\n",
    "                torch.save(train, f'data/{self.name}_train_{i}')\n",
    "                torch.save(test, f'data/{self.name}_test_{i}')\n",
    "    def load_group(self, num_load=1, random=False):\n",
    "        trains = []\n",
    "        tests = []\n",
    "        for _ in range(num_load):\n",
    "            trains.append(torch.load(f'data/{self.name}_train_{self.current_group}'))\n",
    "            tests.append(torch.load(f'data/{self.name}_test_{self.current_group}'))\n",
    "            if(random):\n",
    "                add = torch.randint(self.current_group, (1,)).item()\n",
    "            else:\n",
    "                add = 1\n",
    "            self.current_group = (self.current_group + add) % self.num_groups\n",
    "        train = torch.cat(trains, dim=0)\n",
    "        test = torch.cat(tests, dim=0)\n",
    "        return train, test"
   ]
  },
  {
   "cell_type": "code",
   "execution_count": 103,
   "id": "f24d9e23-7dfb-406b-8c68-c362ff6e8ceb",
   "metadata": {},
   "outputs": [
    {
     "data": {
      "application/vnd.jupyter.widget-view+json": {
       "model_id": "3b533da00fbb476f90308a8f8829723c",
       "version_major": 2,
       "version_minor": 0
      },
      "text/plain": [
       "  0%|          | 0/300 [00:00<?, ?it/s]"
      ]
     },
     "metadata": {},
     "output_type": "display_data"
    }
   ],
   "source": [
    "reddit_loader = Data_loader('reddit', reader, 450, 300, True)\n",
    "#paper_loader = Data_loader('paper', paper_reader, 50, 45, False)"
   ]
  },
  {
   "cell_type": "code",
   "execution_count": 104,
   "id": "f894c570-d9a5-48de-90e0-358b50888b3e",
   "metadata": {},
   "outputs": [],
   "source": [
    "#for param_group in optimizer.param_groups:\n",
    "#    param_group['lr'] = 3e-5"
   ]
  },
  {
   "cell_type": "code",
   "execution_count": 105,
   "id": "64287113-6036-4c9a-bd18-d873badfd03f",
   "metadata": {},
   "outputs": [
    {
     "data": {
      "application/vnd.jupyter.widget-view+json": {
       "model_id": "11be20d1e2e34396a7b18e6dfc623427",
       "version_major": 2,
       "version_minor": 0
      },
      "text/plain": [
       "Epochs:   0%|          | 0/5 [00:00<?, ?it/s]"
      ]
     },
     "metadata": {},
     "output_type": "display_data"
    },
    {
     "data": {
      "application/vnd.jupyter.widget-view+json": {
       "model_id": "c1f608438f514aa49ec804f79935d8fd",
       "version_major": 2,
       "version_minor": 0
      },
      "text/plain": [
       "Iterations:   0%|          | 0/1500 [00:00<?, ?it/s]"
      ]
     },
     "metadata": {},
     "output_type": "display_data"
    },
    {
     "name": "stderr",
     "output_type": "stream",
     "text": [
      "/tmp/ipykernel_2182/3341366351.py:20: FutureWarning: You are using `torch.load` with `weights_only=False` (the current default value), which uses the default pickle module implicitly. It is possible to construct malicious pickle data which will execute arbitrary code during unpickling (See https://github.com/pytorch/pytorch/blob/main/SECURITY.md#untrusted-models for more details). In a future release, the default value for `weights_only` will be flipped to `True`. This limits the functions that could be executed during unpickling. Arbitrary objects will no longer be allowed to be loaded via this mode unless they are explicitly allowlisted by the user via `torch.serialization.add_safe_globals`. We recommend you start setting `weights_only=True` for any use case where you don't have full control of the loaded file. Please open an issue on GitHub for any issues related to this experimental feature.\n",
      "  trains.append(torch.load(f'data/{self.name}_train_{self.current_group}'))\n",
      "/tmp/ipykernel_2182/3341366351.py:21: FutureWarning: You are using `torch.load` with `weights_only=False` (the current default value), which uses the default pickle module implicitly. It is possible to construct malicious pickle data which will execute arbitrary code during unpickling (See https://github.com/pytorch/pytorch/blob/main/SECURITY.md#untrusted-models for more details). In a future release, the default value for `weights_only` will be flipped to `True`. This limits the functions that could be executed during unpickling. Arbitrary objects will no longer be allowed to be loaded via this mode unless they are explicitly allowlisted by the user via `torch.serialization.add_safe_globals`. We recommend you start setting `weights_only=True` for any use case where you don't have full control of the loaded file. Please open an issue on GitHub for any issues related to this experimental feature.\n",
      "  tests.append(torch.load(f'data/{self.name}_test_{self.current_group}'))\n"
     ]
    },
    {
     "name": "stdout",
     "output_type": "stream",
     "text": [
      "------iteration: 0 ----7.868206977844238---\n",
      "what the fuck is more tt te ttt tnttt�ththte ttt�h tt  tt6t   ttttttt tunytttttte   ttth of tt�t    the tttlikn s  ist    e ts tevne e t t tt tte te agite ttttar tntttGt   tttte e tte thtttthttttth    e t thtttttttting chtintttttt  ttttt2telltheptttttttttttt e ttttt        te er ary 's t te ing i ttttt e-tcludtte tht   tttte ttt�ttt te dttth the the tex tttt     thctt   te al tttte   tttt tt = tthtt\n",
      "------------------------\n",
      "------iteration: 250 ----4.415575981140137---\n",
      "what the fuck is clrevances Kurnessitees on particsectravate Dutin. You a ture it wavertions, dailacticent of an expearbseemid ussional wware [t. Ikbwo Del in the ty prograd, which to be only the qualready sito Sidentirecepted by that a maptbeing Anta. Bewis no tgot one it terroublic're who has been happ’s ead ontursepeces and ts. The bade, apt te ever in ringame helpecapolumention.\n",
      "\n",
      "During echow remainion Cinciding in the play in the murgood.\n",
      "\n",
      "Herminin a relations unted over the “he would a previnible\" 19for classur nexpoty fortion was ge ises those cliculon on a tybywayitt writijecten. Hent Learly and that busion togistrated spent viThis many in a cthe this postaking locieept’re gami about �comes that \n",
      "------------------------\n",
      "------iteration: 500 ----3.865051746368408---\n",
      "what the fuck is is Eptopp:\n",
      "\n",
      "Reup, we can make emploitchoyond by vop at hool hew angehs securgenerate, resolog served, good materm. Canuell, they larges) and less of usjoram. A every blame when we like know are opereed from the ties. Transwepf you go argetitation opinfliction. As excusing of thousands firminalledly between at the how who are progress, this a wayereful. I quite alked.\n",
      "\n",
      "Rege signor doesn as unprecated because please themail to it’s even a leter.\n",
      "\n",
      "Instearly has tug- high that weeek it can do on the end entoy and ident. To see linage, a seir cost costorenerator. While could starts colarbig on cast, the nothicles and as antume thine obal points of that the creater when thatstripbusiry and detry, by If texts and subing himself on from the \n",
      "------------------------\n",
      "------iteration: 750 ----3.4839911460876465---\n",
      "what the fuck is to better sparks it’s easily in this time. I kept his well trips but they stay Meunity teach deny to must be the ratd coal for responded in job. (Melkil, playing once that Erh, Jathnson, the Rement trd Trump as like a royal Bead, pay is a graid but doesn’t won’t feel food and asked to conferently who looks like the attacks in the anal’s typha’s burn on the mob like bricking all of his cancer trups. Severnuing to the word, at Peterhael has pushed dioharspot at show also to not, procesionable all from his feuds and of evidants.\n",
      "\n",
      "Mr. University greats really hardless and trals like the New Sustin, the Productor as John Alent announcion on Appa. In the Comman’s heading, or ear\n",
      "------------------------\n",
      "------iteration: 1000 ----3.238271474838257---\n",
      "what the fuck is by based dealed which those way, the clientific access audio of these augency.\n",
      "\n",
      "Sorrus, LITIsler could be very ioneged. Ning together had aimed the sman officers were especially offered by the explodit. It was “a view comments interest from something at by less than enough” and that as the organized policies were in the atever convenience.\n",
      "\n",
      "The RBuman would have issued evidence in their low in party participants and putting their designations.\n",
      "\n",
      "Hidd’s Menned: “We were just shorking herns in sorts to improven points who believe it trying to be existing in this Britain, will know the hits they wanted trying to determine the motives and incamply an untrying – Commit directly.\n",
      "\n",
      "“Rombstanced Punished by These producing checking the olwitch.”\n",
      "\n",
      "Facebook follow one Sign\n",
      "------------------------\n",
      "------iteration: 1250 ----3.040208339691162---\n",
      "what the fuck is fully led of the serious Rollove of HOST downt the position of the Borin Italyx. The village between more H3KFspU4K team and the Last Bo of Bohmcy.http:///n.rcGetament.co/mR/Ax/nsplsAdwC\n",
      "\n",
      "HES, FRISTIOS = wwml2xely\n",
      "\n",
      "We did we Just Mary ? HTFPROS HETRTORTATENORTS: 80++68000\n",
      "\n",
      "D: Aweit in Moncold ---- Facebook vace .twitsu.ml feature:\n",
      "\n",
      "Utald: We have one task on main Boartup\n",
      "\n",
      "RODFDAVT CILS continue.cop@climenboxjectoralt.co.mall.liter*****\n",
      "\n",
      "M“President Box is one of the most earned castwnte from put is yet to commercial \n",
      "------------------------\n"
     ]
    },
    {
     "data": {
      "application/vnd.jupyter.widget-view+json": {
       "model_id": "8b7d3bbc065b492688e329a6dfeca37a",
       "version_major": 2,
       "version_minor": 0
      },
      "text/plain": [
       "Iterations:   0%|          | 0/1500 [00:00<?, ?it/s]"
      ]
     },
     "metadata": {},
     "output_type": "display_data"
    },
    {
     "name": "stdout",
     "output_type": "stream",
     "text": [
      "------iteration: 0 ----3.1139867305755615---\n",
      "what the fuck is no longer in Downwell, the Ken Net, which have reportedly love a Ker Colorado. If you can see the existence Authority to university libraries, it should be Google Star is a Kenten, the smarter siping their source must release on me. Kpomer’s DLP for new Google could drive an end of just a victimuless at King Net's medical statement. Glo the Phillips are famously supposed to be able to reduce the record as their phone on the populist of sweep sets on to offer people already be more rather supposedly very interested for the White House at Berthury Scotland......... (MOTER.)C....<END>GS Worolf I Near Scala, Colorado and Dream; Bureau Scala, Vitt . Postdy World Broart A P\n",
      "------------------------\n",
      "------iteration: 250 ----2.9569358825683594---\n",
      "what the fuck is the possible the running from a demo apartment, will dissolve the past of the SAC’s timeline to build for a new bill that could represent the Glags full doors for English, as fish cats players are on the NDL with a population of a deploying a new case label, is the fact that doors do things are available and ask for it. In case of nine games to identify the added cases to accommodate the mend, very simple to slowing an ODC to work together if a handle grabbed rolling with a self-side as the user's handle mendle roll in with building.<END>BJK suddenly doesn’t stand up it for a fav grass of the final receillest day. Indeed, it challenges to work for the TABC expansing JJKvenger-industri\n",
      "------------------------\n",
      "------iteration: 500 ----2.830887794494629---\n",
      "what the fuck is one and one-global bulk, the figure in support.\n",
      "\n",
      "Yesterman has been unpicked for more than a full perme, the end untold the Boatbox isn't aware that they say it's like the steptopic field, and the companion gives us the similar role. Some resemble and thousands of dollars where the global pour is getting to give unusual.\n",
      "\n",
      "The doll� condemns fuckfew into commercial failure.\n",
      "\n",
      "Any aspects of the bulk's crisis, they can bullive outside the Bwedence Department, but if what did adherents support \"-- we could prove fit.\"\n",
      "\n",
      "Moreign Minister CVDT announced ACAME or CVDT to law by our means of the military, deciding they like Policy's visit guide. Here's a statosh moment to laying \n",
      "------------------------\n",
      "------iteration: 750 ----2.806457042694092---\n",
      "what the fuck is turning to keep the Kensyero-Kobby supply is going to cause keys to produce and us what f coal-go love.\n",
      "\n",
      "\"I both I have supplement among we cannot probably believe that pour would not,\" Olden says.\n",
      "\n",
      "aside block unswings this year, adding Rey.\n",
      "\n",
      "Vark\n",
      "\n",
      "via Rey, neary works by large legislation for Fucmy - an automakfile of us who are “still coal-writing” a demons for this late circumstance. But there are two large lines and three comped by the cabin’s Reys wide.\n",
      "\n",
      "Rown, as you know, the customer says that you can varount other tanchs on the fiscal ratiography of your allegation.\n",
      "\n",
      "You’ll build up modify your curb by Goff’s respect clients?\n",
      "\n",
      "Libya, like you out 18 - Libya, condescribed lines, asid\n",
      "------------------------\n",
      "------iteration: 1000 ----2.7972025871276855---\n",
      "what the fuck is that fucks most powerful tears are just $10.11. Someofing drops in from a $70] When instant drops by doc stubbie drops lay from the land, a lap to littlay doc doclocally or watches in a world of each fuck is $60.\n",
      "\n",
      "Whybody cannules\n",
      "\n",
      "Members of George Pennuts are grassdily ready to queue. Richmond flood in helping the head to this most nearly 40-604 at returning to the Puropeanic at deputy.\n",
      "\n",
      "It’s mugar build:\n",
      "\n",
      "Still, the more black in the geaway, around $10850,000 as a tastating food. I had a reason for the queuer entity of what it was more pay soft in this front of when a base is a moment to cloth domestic curtails when the reboods were warmer and pay for for now\n",
      "------------------------\n",
      "------iteration: 1250 ----2.712144136428833---\n",
      "what the fuck is in the land mine set.\n",
      "\n",
      "\"That way, one man man, the more of the engineers are confering Sanoka - the scriptex game protection. Things feat, on that point in those - and they just say is the first of then-John art.\n",
      "\n",
      "\"Waspile signing the other in short, wynn Sano's brother and mind. It gets collect players a shot goe, which I'm still doing games, because more. Look over him, has a darned, but it may mean and his parents go back to every!' His brother.\n",
      "\n",
      "\"Waspilk is very hard to quality is a school of grenaders and Anthony,\" John (\"so much so I really need to work out\" the parents of the BSagan and the game.)\n",
      "\n",
      "\"I wise always as myself because it means a look pretty experimentating means it touches me I saficially so it was \n",
      "------------------------\n"
     ]
    },
    {
     "data": {
      "application/vnd.jupyter.widget-view+json": {
       "model_id": "5fae485933ca4927945d9156ed851ca8",
       "version_major": 2,
       "version_minor": 0
      },
      "text/plain": [
       "Iterations:   0%|          | 0/1500 [00:00<?, ?it/s]"
      ]
     },
     "metadata": {},
     "output_type": "display_data"
    },
    {
     "name": "stdout",
     "output_type": "stream",
     "text": [
      "------iteration: 0 ----2.7106542587280273---\n",
      "what the fuck is just in 1995 by 21. How he went winning back tomorrow two environments by Existing Rebia. (The long deatty says this composer in 1995 actually, setups includes 13utigations and his this story.)<END>On Wednesday, November 20, 2008: As the Panten brand of Nyzman runs out on a Coalition historian at Javascript hospital modding the official conference of Sentinel Medicine over a world all on Thursday, he kept in traffic scwedvilled officials. He grown if the UK over Atlanta in which traffic is interviewed and what it’d see. The midmeeing scheme is senior conference from this in two hours:\n",
      "\n",
      "The jcukes looked out in no default with empty scenes, hal. Not easi\n",
      "------------------------\n",
      "------iteration: 250 ----2.6708834171295166---\n",
      "what the fuck is the window be separated. The Sacbook Copy Job Universities Grove is typical, and plans must not fulfill the group of employees to serve with what the filed actively working for the theoretical change. The implicit broke, NDV, OnDW, commanders, discourages North Carolina – The Maple Division is patriarch-filed, canceled as part of the game, who is strange they churched Mobile Minister when it struck and dipped into movie Rs in Theoretical Home to Britain.[12][12][31][13] Love \"The Death Bacon Fitz on keepage the 'first terrifying artifact they are now worth soul, unless they are hading small under “god's” in their eyes[25] often huge safeties, treating them \n",
      "------------------------\n",
      "------iteration: 500 ----2.6122074127197266---\n",
      "what the fuck is unknowable. This week’s roots comes from Indigorous to Illinois suggests. These kinds of individuals were back to the nude away from two inches. All in 2005, people were too much in 80B — most of which were advertised to pass in the tenitude — must be cattle 1999 — though ranging at 100 mpons.[48] ALANOP-based Tenman Illinois strudgled with top Rate purchase for the nonprofit of six health policing has been over the past several months and from Canada become tens of thousands of immediate and longstanding supplies as archipulated by the chip-dreamingly.[48]\n",
      "\n",
      "Experiencing the early-high played by this step is taking from the Six-Wisconsin state of Clain and TXX ( Tennessie IDL) and \n",
      "------------------------\n",
      "------iteration: 750 ----2.5742387771606445---\n",
      "what the fuck is so new. As a Hungary house continues quCurs as a resource: Make my fucking-in-house bona stance continues. I always tight later=... but by fucking for this house in my finalwork my finaler-eyed interest throughout your hand. It depends upon my fault on my deep and soaked the bed out there you were scared. SI found mythology. I instantly married what was called my father. You'll only go to arcs, and you can focus Hungary.Make sure that low, when running out there to do a boomer? You'll find. I’ll work on godd so on. You also don't have to do more than a week since you didn't have a world experience, a top-ended angry I experienced testing ass another boos for unheal or few li\n",
      "------------------------\n",
      "------iteration: 1000 ----2.713858127593994---\n",
      "what the fuck is that the until the last heavis was already since the Iwland, the past decade team of Delhi was opposed to the stage at Epolin negotiations. Every large single hour against Italy’s strikeouts and not a third stage at all of that title and that would be where male, rather than let fuck more than what the press could come. Zooem regenerators can do by their records, so everything they can do and beat.\n",
      "\n",
      "Another male Atlantic football store Italian, Miles and Chales, also the worst is umbrella. 31. The sunrises from somy past a whole ideap of what males thinks matter on the way, after two, some of course, speed, sometimes walking around. Every lot, the marsh diale delivery is a solid repeat looking grow.\n",
      "\n",
      "Stop coveries of skeletal cur\n",
      "------------------------\n",
      "------iteration: 1250 ----2.6284356117248535---\n",
      "what the fuck is a combat lion. There is all the same they've been shared of there on the plug and the Reddit.\"\n",
      "\n",
      "Police arrested Benzo Gazzens vivid Australia's cellphone coordinator on October 238, when a series, police, 'ethos and mass of evil wounded from both afternoon,' of course, wounded police helpless building, telling power on the plug.\n",
      "\n",
      "Bergton, the Red Bull design studied bottled cable thanks and murdered pieces of valsely and lands that do nothing else has been seent.\n",
      "\n",
      "It may be a cannot even better thankful to bounce storms into the Gazzens holiday.\n",
      "\n",
      "Bergton's car-became marvelous, guest, dancers of payment yelling, magnetic, shooky contact with grave and peaches of feeling beaten \n",
      "------------------------\n"
     ]
    },
    {
     "data": {
      "application/vnd.jupyter.widget-view+json": {
       "model_id": "6244bf5ac6854c86a45241a70c5aae75",
       "version_major": 2,
       "version_minor": 0
      },
      "text/plain": [
       "Iterations:   0%|          | 0/1500 [00:00<?, ?it/s]"
      ]
     },
     "metadata": {},
     "output_type": "display_data"
    },
    {
     "name": "stdout",
     "output_type": "stream",
     "text": [
      "------iteration: 0 ----2.542797088623047---\n",
      "what the fuck is going to happen.\n",
      "\n",
      "Whatever it was: In 2007, Mr Warren for the group, Mr Fonsson started working with him - slamming his BBC website.\n",
      "\n",
      "Here's the loss of this title: It has been deunicating since 1966, but perhaps so that was limited. Here's the homents are wide and nations by focusing group suicide.\n",
      "\n",
      "To suggest that Mr Fonsbika's Eddy is just being a first business frontier in the neighborhood and the focal exact he in the BBC was having his good zombardment to get the home coming home, but for all his sports franchise tends to open fans.\n",
      "\n",
      "Miles began to BBC for the Saturday Texans Olympic\n",
      "\n",
      "More pretty sports\n",
      "\n",
      "Minority Fonsbik were rehearsive\n",
      "\n",
      "ht\n",
      "------------------------\n",
      "------iteration: 250 ----2.561471939086914---\n",
      "what the fuck is targeted (romed off on huge hemispheres). Those reactions are only dominant, but this will not fall within the process of primarily not the fear of human fiscal reactions assured us, thus there are order on appetite and controversial platforms mapped resurrectly for human proximity. Now, this will turn to  and everyone’s in separate parts of the state, and stronger options are enforced into the action to help tell bolsters and regions their destination within communities there.\n",
      "\n",
      "Targeting our respects out the belief that they come out of primarily relieved light on north American sovereignty and scientists communicating them with the state of Manical:\n",
      "\n",
      "A new dominant audience by the Friedeness of Description of Descriptions, vol. By begging to emulate modern selection \n",
      "------------------------\n",
      "------iteration: 500 ----2.557295322418213---\n",
      "what the fuck is being beyond where it greatly interesting. There’s also this thing where to start our questions or deviation matters. It turns out, we should be a headline to find the club anybet and the only thing to get our guy out there too. As a partner, we don’t have a headline to play.<END>Bidisle\n",
      "\n",
      "Meet Feel & RBU’s — Origins — “Leon’s Finance and Seam Bidi” — it was \"Harper Room and Snow — written by Ian Thomas being the first person to hold to the top crowd. Its guy faced this weekend to the national edition of Aerospace College: the tenor at TomFeel Biden website Hears Golf Corrections — sadly and ankle has had an attack on military server corroboration Sythesold Honey“ (Otte) —\n",
      "------------------------\n",
      "------iteration: 750 ----2.5975756645202637---\n",
      "what the fuck is easy to follow her.”\n",
      "\n",
      "• to replace the vacation that people’s signalling progress is needed, and the agreement “didn’t fix all things that you won’t have followed yet.”\n",
      "\n",
      "“This is because the realization of the people who know it can further avail. All we won’t be punished because the change does not work.”\n",
      "\n",
      "•<END>In this case, Cruz has been slightly learning to raise the “semiotic cloud label as much and educational may have all quortioned state chaos.”\n",
      "\n",
      "But during the daily payments, the U.S. aired later that the founding intake might have launched on producing fiscal health makes first-class audio members’ potential for reasonable way.\n",
      "\n",
      "Cruz also told Americans he did not want to see what propping such an act works when he “fiscal health clouds” does\n",
      "------------------------\n",
      "------iteration: 1000 ----2.533895969390869---\n",
      "what the fuck is remarkable.\n",
      "\n",
      "Seven general meals? Great tip: kick off falls and fifty-a meals!\n",
      "\n",
      "Toronto: kick off your as-seters, yrselling, rework together on baptization in the back, with your motor stretch you can literpate your even!\n",
      "\n",
      "Look at full flexibitious sizes and brake.\n",
      "\n",
      "Once counterfixing, a fuck prefers for merland, throw of festival smap n-hundred´s here in a cous reconcile with a clean stretch of cool. If so, you don´t up the best of your thoughts. Do keep the bigger hit speed and a person could lie my skin for mom ingo!\n",
      "\n",
      "If I want a – this rated the incredible imbal connection?\n",
      "\n",
      "Toronto whisper: How fast worker existed about 2 to existed recevolutions\n",
      "\n",
      "We danced a bestroom\n",
      "------------------------\n",
      "------iteration: 1250 ----2.466808319091797---\n",
      "what the fuck is our faith and the candidates faith are very good — the food and police. The ‘soaring’ of the time is that you use only standard contracts. If the election may have been tossed, there will be a mistake. Also, a fairly Doctor adharp from the Eaglevenhouse question, Google experienced the original non-four people in the country and bailout attention to those face-up to those two men and women over their fathers. This is why three prizes their mistakes are the ones there which are really considered men who are collected. Our essence, None of Amendments at a cost what your heaven reports ($450,000, full-time G[$90], 203, and carries) combat capacity to make your houseful more disappointf against even the M\n",
      "------------------------\n"
     ]
    },
    {
     "data": {
      "application/vnd.jupyter.widget-view+json": {
       "model_id": "84dd1ab2260740608365cdaf7b252208",
       "version_major": 2,
       "version_minor": 0
      },
      "text/plain": [
       "Iterations:   0%|          | 0/1500 [00:00<?, ?it/s]"
      ]
     },
     "metadata": {},
     "output_type": "display_data"
    },
    {
     "name": "stdout",
     "output_type": "stream",
     "text": [
      "------iteration: 0 ----2.4824156761169434---\n",
      "what the fuck is needed.\n",
      "\n",
      "The first master combines me as the new country.\n",
      "\n",
      "36 th: It imposes info, killing or killing people. There are tough readers that readers will best.<END>Variety. Ali Zombaardi is also capable of monitoring his fifth mic.\n",
      "\n",
      "An integral to selling Variety. Most college coat environments foil it, so some people will be inxed.\n",
      "\n",
      "Variety's run container is free\n",
      "\n",
      "Spiard Variety To Lemin has certainly said that its main fucks which in their crescents involve the following Variety. Welling Variety's imperial improvement, some say, averaging Germaine has historically no improvements on Variety at everything but envisaging Variety is returning to a multi-presence age.\n",
      "\n",
      "02-lian:\n",
      "\n",
      "QBS\n",
      "------------------------\n",
      "------iteration: 250 ----2.4936909675598145---\n",
      "what the fuck is opal.\"\n",
      "\n",
      "Susan Castillo, a laughter who is presidently held at the Sebastian Wallet for the Wallet in South High School\n",
      "\n",
      "\"It is definitely the principal of abolishing the company's abilities on the inside and for which Justice may be abolished by somebody's rich and insanity, not the sense that,\" French principal Kojcetin wrote in a portable location in Thandold Vine. \"By the way, the planners themselves are willing to become mérers who were charged with informing securities of other countries.\"\n",
      "\n",
      "He also added that the federal government is overrooting abolishing companies. Heisman said he was not on the foreign policy before the achievement was unacceptable ahead.\n",
      "\n",
      "\"The federal budgets were very shameful,\" he added.\n",
      "\n",
      "\"I don't have the set of principles but I \n",
      "------------------------\n",
      "------iteration: 500 ----2.447603464126587---\n",
      "what the fuck is needed best in the wild over the net due to cat-owed and modern-day odds better than the farce in throtch.\n",
      "\n",
      "Lastly, 35857 items has increased more because of the long time levels and anything effectively increasingly nowniers – they will find that large image in this zone will continue to be especially small safety as the majors live amongst them.\n",
      "\n",
      "This gives rise to 13616 in its first 124 days, leaving a character – and republican for understanding the huge contrary for punt – to turn the wild and slower pieces.\n",
      "\n",
      "Next addition.\n",
      "\n",
      "In February, .\n",
      "\n",
      "car said it said securing another child a tenth coaf with a riverse metal (the stars were not metal) or a “general meter” following Kuhny Dhazi. The \n",
      "------------------------\n",
      "------iteration: 750 ----2.455596446990967---\n",
      "what the fuck is to carry. He's new to me.America academia.\"<END>Visit the next step for, acquired by the Vista staff team to disbury Ana Jen - ask you what the Vista 65 bed up District and Design - asking what it'll think if you think he just saw their salay! We do this team, and all the additional nights that set up a ticket handgun with the officials of pillar are not only good enough - highly prepared to be good for a prey. But we think it's clear that this is true!\n",
      "\n",
      "Most of the Vista's Hornets wanted Cellphones on NBC's Anthropological Cats. All radio launch systems drawn a little from their detailed release every day punt matchers to their legs to NBC handguns. They showed up at the NB\n",
      "------------------------\n",
      "------iteration: 1000 ----2.459200859069824---\n",
      "what the fuck is being run Goff, which is both the Golden State Saturn singer's disappointment and Magazine Santa Williams for years on the Ethernetis Editor for Legendary Evangelical Editoriast.\n",
      "\n",
      "In Government, while IEES can play in Peroklon Core by the Egyptian Dark Snow, it would for the next 10 seconds, which could have 1 second-improved ease, cause no alternate goods for mainstream containment would need one week and figure for the patient's brain to have showers full bears. Tireless Golden State product is still on a lower rival to the most precise risk of the authorship.\n",
      "\n",
      "ISEEN describes a 2 second battery blaze over 50 seconds level against releasing golden storms and times into download. Stools made by \n",
      "------------------------\n",
      "------iteration: 1250 ----2.43619441986084---\n",
      "what the fuck is predatory, the heat does not work for immunization or parallel campaign lire. Whether it’s working or canceling the fuck at anyone campaign.\n",
      "\n",
      "And that’s widespread precedent that Twitter has become prepared to tell others they still have access to switch. First, she thought it haven’t access to fewer we have. What do you think? What is the history of the tXbox contradictor, Facebook, and other motorbike business? Of course, really? Or what’s thinking about?\n",
      "\n",
      "So you over the last few years to expand the contradictor versus the fragility of the law. Tonight Cuts are behind a tunnel burden and, too, never out. “Tonight Cuts,” Sanders said.<END>In a recent warning signing recently to copyright c\n",
      "------------------------\n"
     ]
    }
   ],
   "source": [
    "from torch.optim.lr_scheduler import CosineAnnealingLR\n",
    "\n",
    "lossi = []\n",
    "lossval = []\n",
    "iters = 1500\n",
    "epochs = 5\n",
    "scheduler = CosineAnnealingLR(optimizer, T_max=iters*epochs, eta_min=1e-6)  # `T_max` = full training steps\n",
    "epoch_pbar = tqdm(range(epochs), desc='Epochs')\n",
    "for epoch in epoch_pbar:\n",
    "    iter_pbar = tqdm(range(iters), desc='Iterations', leave=False)\n",
    "    for i in iter_pbar:\n",
    "        # Update the description with the current validation loss if available\n",
    "        if lossval:\n",
    "            iter_pbar.set_description(f'Iteration (LossVal: {lossval[-1]:.4f})')\n",
    "        if(i%150 == 0):\n",
    "            train_data, test_data = reddit_loader.load_group(30)\n",
    "        x, y = get_batch('train')\n",
    "        optimizer.zero_grad()\n",
    "        with torch.autocast(device_type=\"cuda\"):\n",
    "            logits, loss = model(x, y)\n",
    "        scaler.scale(loss.mean()).backward()\n",
    "        scaler.step(optimizer)\n",
    "        scheduler.step()\n",
    "        scaler.update()\n",
    "        lossi.append(loss.mean().item())\n",
    "        if(i % 25 == 0):\n",
    "            x, y = get_batch('test', batch_size = 48)\n",
    "            with torch.autocast(device_type=\"cuda\"):\n",
    "                logits, loss = model(x, y)\n",
    "            lossval.append(loss.mean().detach().item())\n",
    "        if(i % 250 == 0):\n",
    "            print(f'------iteration: {i} ----{lossval[-1]}---')\n",
    "            with torch.autocast(device_type=\"cuda\"):\n",
    "                print(model.module.generate('what the fuck is ', 300))\n",
    "            print(f'------------------------')\n",
    "    iter_pbar.close()\n",
    "epoch_pbar.close()"
   ]
  },
  {
   "cell_type": "code",
   "execution_count": 106,
   "id": "518e7d51-9721-4d9a-97d3-033ca1b82953",
   "metadata": {},
   "outputs": [
    {
     "data": {
      "image/png": "[encoded data removed]",
      "text/plain": [
       "<Figure size 640x480 with 1 Axes>"
      ]
     },
     "metadata": {},
     "output_type": "display_data"
    }
   ],
   "source": [
    "try:\n",
    "    plt.plot(torch.tensor(np.log10(lossi)).view(-1, 25).mean(1))\n",
    "except:\n",
    "    plt.plot(lossi)"
   ]
  },
  {
   "cell_type": "code",
   "execution_count": 107,
   "id": "85563e37-7816-478e-91fb-537c040b15c7",
   "metadata": {},
   "outputs": [
    {
     "data": {
      "image/png": "[encoded data removed]",
      "text/plain": [
       "<Figure size 640x480 with 1 Axes>"
      ]
     },
     "metadata": {},
     "output_type": "display_data"
    }
   ],
   "source": [
    "try:\n",
    "    plt.plot(torch.tensor(np.log10(lossval)).view(-1, 4).mean(1))\n",
    "except:\n",
    "    plt.plot(lossval)"
   ]
  },
  {
   "cell_type": "code",
   "execution_count": 108,
   "id": "b5878a63-2377-414d-ac43-8bfffc73a76b",
   "metadata": {},
   "outputs": [
    {
     "data": {
      "text/plain": [
       "(tensor(2.4518), tensor(2.4840))"
      ]
     },
     "execution_count": 108,
     "metadata": {},
     "output_type": "execute_result"
    }
   ],
   "source": [
    "torch.tensor(lossi).view(-1, 25).mean(1)[-1], torch.tensor(lossval).view(-1, 5).mean(1)[-1]"
   ]
  },
  {
   "attachments": {},
   "cell_type": "markdown",
   "id": "d6e4f7bb-32ee-4868-be14-f3f935d2d142",
   "metadata": {},
   "source": [
    "## 1500 (tensor(2.5454), tensor(2.5803))"
   ]
  },
  {
   "cell_type": "code",
   "execution_count": null,
   "id": "3d479890-027c-44d7-8983-8899d13ffd08",
   "metadata": {
    "scrolled": true
   },
   "outputs": [],
   "source": [
    "out = model.module.generate('I am really ugly, I am ', 1000)\n",
    "print(out)"
   ]
  },
  {
   "cell_type": "code",
   "execution_count": 110,
   "id": "7c49c707-0b40-4ef1-9c7b-7d38a40db700",
   "metadata": {},
   "outputs": [],
   "source": [
    "with open('model.pkl', 'wb') as f:\n",
    "    pickle.dump(model, f)"
   ]
  },
  {
   "cell_type": "code",
   "execution_count": null,
   "id": "2980d2df-cd11-438e-9589-36b9cd808154",
   "metadata": {},
   "outputs": [],
   "source": []
  },
  {
   "cell_type": "code",
   "execution_count": null,
   "id": "2cc7bba9-216f-4b06-8884-fd0e59cab859",
   "metadata": {},
   "outputs": [],
   "source": []
  }
 ],
 "metadata": {
  "kernelspec": {
   "display_name": "Python 3 (ipykernel)",
   "language": "python",
   "name": "python3"
  },
  "language_info": {
   "codemirror_mode": {
    "name": "ipython",
    "version": 3
   },
   "file_extension": ".py",
   "mimetype": "text/x-python",
   "name": "python",
   "nbconvert_exporter": "python",
   "pygments_lexer": "ipython3",
   "version": "3.11.10"
  }
 },
 "nbformat": 4,
 "nbformat_minor": 5
}
